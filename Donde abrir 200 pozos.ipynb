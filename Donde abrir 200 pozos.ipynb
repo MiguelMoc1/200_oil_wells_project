{
 "cells": [
  {
   "cell_type": "markdown",
   "metadata": {},
   "source": [
    "# ¿Dónde abrir 200 nuevos pozos petroleros?"
   ]
  },
  {
   "cell_type": "markdown",
   "metadata": {},
   "source": [
    "## Introducción\n",
    "\n",
    "En este proyecto, trabajamos para la compañía de extracción de petróleo OilyGiant con el objetivo de identificar las mejores ubicaciones para abrir 200 nuevos pozos petrolíferos. La tarea se divide en varias fases que incluyen la preparación de datos, entrenamiento de modelos de predicción, evaluación de regiones, y análisis de riesgos y beneficios.\n",
    "\n",
    "## Pasos del proyecto:\n",
    "\n",
    "1. **Importación y Preparación de los Datos**:\n",
    "   - Comenzaremos cargando los datos geológicos de tres regiones diferentes, donde cada conjunto de datos incluye características de los pozos petrolíferos y el volumen de reservas.\n",
    "   - Verificaremos los datos en busca de valores nulos u otras inconsistencias que puedan afectar nuestro análisis.\n",
    "\n",
    "2. **Entrenamiento y Validación del Modelo**:\n",
    "   - Entrenaremos un modelo de regresión lineal para cada región con el fin de predecir el volumen de reservas en los pozos.\n",
    "   - Validaremos el rendimiento del modelo utilizando un conjunto de datos de validación y calcularemos el Error Cuadrático Medio (RMSE) para evaluar la precisión de nuestras predicciones.\n",
    "\n",
    "3. **Cálculo de Ganancias**:\n",
    "   - Seleccionaremos los 200 pozos con las predicciones de reservas más altas en cada región.\n",
    "   - Calcularemos el beneficio potencial basado en las reservas estimadas y compararemos estos beneficios entre las tres regiones.\n",
    "\n",
    "4. **Evaluación de Riesgos y Beneficios**:\n",
    "   - Utilizaremos la técnica de bootstrapping para estimar la distribución de los beneficios y los riesgos asociados con cada región.\n",
    "   - Analizaremos el riesgo de pérdidas en cada región y determinaremos cuál ofrece el mayor beneficio con el menor riesgo.\n",
    "\n",
    "5. **Conclusiones y Recomendaciones**:\n",
    "   - Basándonos en el análisis realizado, recomendaremos la mejor región para el desarrollo de los 200 nuevos pozos petrolíferos y justificaremos nuestra elección con datos cuantitativos.\n",
    "\n",
    "Este proceso nos permitirá identificar la región con el mayor margen de beneficio y el menor riesgo, asegurando una inversión más segura y rentable para OilyGiant.\n"
   ]
  },
  {
   "cell_type": "markdown",
   "metadata": {},
   "source": [
    "## Preparación de Datos\n",
    "\n",
    "En este paso, cargaremos los conjuntos de datos geológicos de las tres regiones y realizaremos una inspección inicial. Nuestro objetivo es asegurarnos de que los datos están en buen estado para el análisis. Verificaremos si hay valores nulos, revisaremos las primeras filas de los datos para entender su estructura y asegurarnos de que las características están correctamente formateadas. Si encontramos valores nulos u otras inconsistencias, los abordaremos adecuadamente para que no afecten el entrenamiento de los modelos. Además, dividiremos los datos en conjuntos de entrenamiento y validación para preparar los datos para el modelado posterior.\n"
   ]
  },
  {
   "cell_type": "code",
   "execution_count": 1,
   "metadata": {},
   "outputs": [],
   "source": [
    "import pandas as pd\n",
    "from sklearn.model_selection import train_test_split\n",
    "from sklearn.linear_model import LinearRegression\n",
    "from sklearn.metrics import mean_squared_error\n",
    "import numpy as np"
   ]
  },
  {
   "cell_type": "code",
   "execution_count": 2,
   "metadata": {},
   "outputs": [
    {
     "name": "stdout",
     "output_type": "stream",
     "text": [
      "Región 0 - Primeras Filas:\n",
      "      id        f0        f1        f2     product\n",
      "0  txEyH  0.705745 -0.497823  1.221170  105.280062\n",
      "1  2acmU  1.334711 -0.340164  4.365080   73.037750\n",
      "2  409Wp  1.022732  0.151990  1.419926   85.265647\n",
      "3  iJLyR -0.032172  0.139033  2.978566  168.620776\n",
      "4  Xdl7t  1.988431  0.155413  4.751769  154.036647\n",
      "\n",
      "Región 1 - Primeras Filas:\n",
      "      id         f0         f1        f2     product\n",
      "0  kBEdx -15.001348  -8.276000 -0.005876    3.179103\n",
      "1  62mP7  14.272088  -3.475083  0.999183   26.953261\n",
      "2  vyE1P   6.263187  -5.948386  5.001160  134.766305\n",
      "3  KcrkZ -13.081196 -11.506057  4.999415  137.945408\n",
      "4  AHL4O  12.702195  -8.147433  5.004363  134.766305\n",
      "\n",
      "Región 2 - Primeras Filas:\n",
      "      id        f0        f1        f2     product\n",
      "0  fwXo0 -1.146987  0.963328 -0.828965   27.758673\n",
      "1  WJtFt  0.262778  0.269839 -2.530187   56.069697\n",
      "2  ovLUW  0.194587  0.289035 -5.586433   62.871910\n",
      "3  q6cA6  2.236060 -0.553760  0.930038  114.572842\n",
      "4  WPMUX -0.515993  1.716266  5.899011  149.600746\n",
      "\n",
      "Región 0 - Valores Nulos:\n",
      "id         0\n",
      "f0         0\n",
      "f1         0\n",
      "f2         0\n",
      "product    0\n",
      "dtype: int64\n",
      "\n",
      "Región 1 - Valores Nulos:\n",
      "id         0\n",
      "f0         0\n",
      "f1         0\n",
      "f2         0\n",
      "product    0\n",
      "dtype: int64\n",
      "\n",
      "Región 2 - Valores Nulos:\n",
      "id         0\n",
      "f0         0\n",
      "f1         0\n",
      "f2         0\n",
      "product    0\n",
      "dtype: int64\n"
     ]
    }
   ],
   "source": [
    "# Cargar los datos de las tres regiones\n",
    "data_region_0 = pd.read_csv('/datasets/geo_data_0.csv')\n",
    "data_region_1 = pd.read_csv('/datasets/geo_data_1.csv')\n",
    "data_region_2 = pd.read_csv('/datasets/geo_data_2.csv')\n",
    "\n",
    "# Verificar las primeras filas de cada conjunto de datos\n",
    "print(\"Región 0 - Primeras Filas:\")\n",
    "print(data_region_0.head())\n",
    "print()\n",
    "\n",
    "print(\"Región 1 - Primeras Filas:\")\n",
    "print(data_region_1.head())\n",
    "print()\n",
    "\n",
    "print(\"Región 2 - Primeras Filas:\")\n",
    "print(data_region_2.head())\n",
    "print()\n",
    "\n",
    "# Verificar valores nulos en cada conjunto de datos\n",
    "print(\"Región 0 - Valores Nulos:\")\n",
    "print(data_region_0.isnull().sum())\n",
    "print()\n",
    "\n",
    "print(\"Región 1 - Valores Nulos:\")\n",
    "print(data_region_1.isnull().sum())\n",
    "print()\n",
    "\n",
    "print(\"Región 2 - Valores Nulos:\")\n",
    "print(data_region_2.isnull().sum())\n"
   ]
  },
  {
   "cell_type": "markdown",
   "metadata": {},
   "source": [
    "### Observaciones sobre la Preparación de Datos\n",
    "\n",
    "1. **Estructura de los Datos:**\n",
    "   - Se han cargado y examinado los datos de las tres regiones. Cada conjunto de datos contiene las siguientes columnas: `id`, `f0`, `f1`, `f2`, y `product`. \n",
    "   - La columna `product` representa el volumen de reservas de petróleo en cada pozo, que será nuestra variable objetivo.\n",
    "\n",
    "2. **Valores Nulos:**\n",
    "   - No se encontraron valores nulos en ninguno de los conjuntos de datos para las tres regiones. Esto sugiere que no es necesario realizar imputación de valores faltantes, lo cual simplifica el proceso de preprocesamiento de datos.\n",
    "\n",
    "3. **Primeras Filas:**\n",
    "   - Se han visualizado las primeras filas de cada conjunto de datos, y los valores parecen estar correctamente estructurados. Las características (`f0`, `f1`, `f2`) y el volumen de reservas (`product`) están bien representadas.\n",
    "\n",
    "4. **Siguiente Paso:**\n",
    "   - Ahora que hemos verificado la integridad de los datos, el siguiente paso será dividir los datos en conjuntos de entrenamiento y validación para cada región. Esto nos permitirá entrenar modelos de regresión lineal para predecir el volumen de reservas basado en las características de cada pozo.\n"
   ]
  },
  {
   "cell_type": "markdown",
   "metadata": {},
   "source": [
    "### División de Datos en Conjuntos de Entrenamiento y Validación\n",
    "\n",
    "En este paso, dividiremos los datos de cada región en conjuntos de entrenamiento y validación. Esto nos permitirá entrenar un modelo de regresión lineal y evaluar su rendimiento en datos no vistos previamente. La división se realizará en una proporción de 75% para el entrenamiento y 25% para la validación, manteniendo así un buen equilibrio entre los datos de entrenamiento y los datos de prueba.\n"
   ]
  },
  {
   "cell_type": "code",
   "execution_count": 3,
   "metadata": {
    "scrolled": true
   },
   "outputs": [
    {
     "name": "stdout",
     "output_type": "stream",
     "text": [
      "Región 0 - Conjunto de entrenamiento: (75000, 3), Conjunto de validación: (25000, 3)\n",
      "Región 1 - Conjunto de entrenamiento: (75000, 3), Conjunto de validación: (25000, 3)\n",
      "Región 2 - Conjunto de entrenamiento: (75000, 3), Conjunto de validación: (25000, 3)\n"
     ]
    }
   ],
   "source": [
    "# Función para dividir los datos en entrenamiento y validación\n",
    "def split_data(data):\n",
    "    features = data.drop(columns=['id', 'product'])\n",
    "    target = data['product']\n",
    "    features_train, features_valid, target_train, target_valid = train_test_split(\n",
    "        features, target, test_size=0.25, random_state=42\n",
    "    )\n",
    "    return features_train, features_valid, target_train, target_valid\n",
    "\n",
    "# Dividir los datos para cada región\n",
    "features_train_0, features_valid_0, target_train_0, target_valid_0 = split_data(data_region_0)\n",
    "features_train_1, features_valid_1, target_train_1, target_valid_1 = split_data(data_region_1)\n",
    "features_train_2, features_valid_2, target_train_2, target_valid_2 = split_data(data_region_2)\n",
    "\n",
    "# Verificar las dimensiones de los conjuntos de entrenamiento y validación\n",
    "print(f\"Región 0 - Conjunto de entrenamiento: {features_train_0.shape}, Conjunto de validación: {features_valid_0.shape}\")\n",
    "print(f\"Región 1 - Conjunto de entrenamiento: {features_train_1.shape}, Conjunto de validación: {features_valid_1.shape}\")\n",
    "print(f\"Región 2 - Conjunto de entrenamiento: {features_train_2.shape}, Conjunto de validación: {features_valid_2.shape}\")"
   ]
  },
  {
   "cell_type": "markdown",
   "metadata": {},
   "source": [
    "### Observaciones sobre la División de Datos\n",
    "\n",
    "En este paso, hemos dividido exitosamente los datos de cada una de las tres regiones en conjuntos de entrenamiento y validación. Los datos se dividieron en una proporción de 75% para el entrenamiento y 25% para la validación, lo cual es una práctica estándar para asegurar que el modelo tenga suficiente información para aprender, mientras que también se reserva una cantidad significativa de datos para evaluar su rendimiento en datos no vistos.\n",
    "\n",
    "Las dimensiones obtenidas son consistentes para las tres regiones:\n",
    "\n",
    "- **Conjunto de Entrenamiento:** 75,000 muestras con 3 características cada una.\n",
    "- **Conjunto de Validación:** 25,000 muestras con 3 características cada una.\n",
    "\n",
    "Esta división nos asegura que cada modelo tendrá una base sólida para el entrenamiento y una evaluación justa y equitativa en los datos de validación. Con estos conjuntos preparados, estamos listos para proceder al entrenamiento de los modelos y su evaluación en las diferentes regiones.\n"
   ]
  },
  {
   "cell_type": "markdown",
   "metadata": {},
   "source": [
    "## Entrenamiento y Evaluación del Modelo de Regresión Lineal para Cada Región\n",
    "\n",
    "En este paso, entrenaremos un modelo de regresión lineal para cada una de las tres regiones utilizando los conjuntos de entrenamiento previamente divididos. Posteriormente, evaluaremos el rendimiento del modelo en los conjuntos de validación para cada región, calculando el error cuadrático medio (RMSE) y observando la media del volumen de reservas predicho. Este análisis nos ayudará a entender qué tan bien nuestro modelo puede predecir el volumen de reservas en cada región y nos proporcionará un punto de referencia para comparar las regiones entre sí.\n",
    "\n",
    "Pasos que seguiremos:\n",
    "1. Entrenar un modelo de regresión lineal con los datos de entrenamiento de cada región.\n",
    "2. Realizar predicciones utilizando los datos de validación.\n",
    "3. Calcular el RMSE y la media del volumen de reservas predicho para cada región.\n",
    "4. Analizar los resultados y preparar observaciones que nos ayuden a identificar la región con el mejor rendimiento.\n"
   ]
  },
  {
   "cell_type": "code",
   "execution_count": 4,
   "metadata": {},
   "outputs": [
    {
     "name": "stdout",
     "output_type": "stream",
     "text": [
      "Región 0 - RMSE: 37.76, Media del Volumen Predicho: 92.40\n",
      "Región 1 - RMSE: 0.89, Media del Volumen Predicho: 68.71\n",
      "Región 2 - RMSE: 40.15, Media del Volumen Predicho: 94.77\n"
     ]
    }
   ],
   "source": [
    "# Entrenamiento y evaluación del modelo para la Región 0\n",
    "model_region_0 = LinearRegression()\n",
    "model_region_0.fit(features_train_0, target_train_0)\n",
    "predictions_valid_0 = model_region_0.predict(features_valid_0)\n",
    "rmse_0 = mean_squared_error(target_valid_0, predictions_valid_0, squared=False)\n",
    "mean_pred_0 = predictions_valid_0.mean()\n",
    "\n",
    "# Entrenamiento y evaluación del modelo para la Región 1\n",
    "model_region_1 = LinearRegression()\n",
    "model_region_1.fit(features_train_1, target_train_1)\n",
    "predictions_valid_1 = model_region_1.predict(features_valid_1)\n",
    "rmse_1 = mean_squared_error(target_valid_1, predictions_valid_1, squared=False)\n",
    "mean_pred_1 = predictions_valid_1.mean()\n",
    "\n",
    "# Entrenamiento y evaluación del modelo para la Región 2\n",
    "model_region_2 = LinearRegression()\n",
    "model_region_2.fit(features_train_2, target_train_2)\n",
    "predictions_valid_2 = model_region_2.predict(features_valid_2)\n",
    "rmse_2 = mean_squared_error(target_valid_2, predictions_valid_2, squared=False)\n",
    "mean_pred_2 = predictions_valid_2.mean()\n",
    "\n",
    "# Mostrar resultados\n",
    "print(f\"Región 0 - RMSE: {rmse_0:.2f}, Media del Volumen Predicho: {mean_pred_0:.2f}\")\n",
    "print(f\"Región 1 - RMSE: {rmse_1:.2f}, Media del Volumen Predicho: {mean_pred_1:.2f}\")\n",
    "print(f\"Región 2 - RMSE: {rmse_2:.2f}, Media del Volumen Predicho: {mean_pred_2:.2f}\")"
   ]
  },
  {
   "cell_type": "markdown",
   "metadata": {},
   "source": [
    "### Observaciones sobre el Entrenamiento y Evaluación del Modelo\n",
    "\n",
    "Tras entrenar y evaluar los modelos de regresión lineal en cada una de las tres regiones, hemos obtenido los siguientes resultados:\n",
    "\n",
    "- **Región 0:**\n",
    "  - **RMSE:** 37.76\n",
    "  - **Media del Volumen Predicho:** 92.40\n",
    "  \n",
    "- **Región 1:**\n",
    "  - **RMSE:** 0.89\n",
    "  - **Media del Volumen Predicho:** 68.71\n",
    "  \n",
    "- **Región 2:**\n",
    "  - **RMSE:** 40.15\n",
    "  - **Media del Volumen Predicho:** 94.77\n",
    "\n",
    "**Análisis de Resultados:**\n",
    "\n",
    "1. **Región 0:** Presenta un RMSE relativamente alto (37.76), lo que indica que las predicciones del modelo tienen una desviación considerable respecto a los valores reales. La media del volumen predicho es de 92.40, lo que sugiere que, en promedio, los pozos de esta región tienen una capacidad de reservas moderada.\n",
    "\n",
    "2. **Región 1:** Este modelo ha logrado un RMSE muy bajo (0.89), lo que sugiere que las predicciones son extremadamente precisas. Sin embargo, la media del volumen predicho es menor (68.71) en comparación con las otras regiones, lo que podría indicar que aunque el modelo es preciso, la capacidad promedio de los pozos en esta región es menor.\n",
    "\n",
    "3. **Región 2:** Similar a la Región 0, esta región presenta un RMSE alto (40.15), lo que indica una variabilidad significativa en las predicciones. No obstante, la media del volumen predicho es la más alta (94.77), sugiriendo que, en promedio, los pozos de esta región tienen una mayor capacidad de reservas.\n",
    "\n",
    "**Conclusiones:**\n",
    "\n",
    "- La **Región 1** destaca por la precisión de su modelo, pero la media de las reservas predichas es menor en comparación con las otras dos regiones.\n",
    "- Las **Regiones 0 y 2** tienen un RMSE más alto, lo que indica una menor precisión en las predicciones. Sin embargo, estas regiones presentan mayores volúmenes medios predichos de reservas.\n",
    "- Estos resultados sugieren que la **Región 2** podría ser la más prometedora debido a su mayor media en volumen predicho, aunque su alto RMSE indica que hay incertidumbre en las predicciones. La **Región 1**, por su parte, muestra estabilidad en las predicciones, lo que también puede ser una ventaja dependiendo del contexto.\n",
    "\n",
    "Estos hallazgos nos ayudarán a decidir cuáles regiones tienen el mayor potencial y cómo priorizar las decisiones de inversión. \n"
   ]
  },
  {
   "cell_type": "markdown",
   "metadata": {},
   "source": [
    "## Preparación para el Cálculo de Ganancias\n",
    "En este paso, nuestro objetivo es establecer los parámetros clave que nos permitirán calcular las ganancias esperadas de cada región con base en las predicciones realizadas por nuestros modelos. Específicamente, determinaremos el volumen mínimo de reservas necesario para que un pozo sea rentable, y compararemos este valor con las medias de los volúmenes predichos en cada región. Esto nos dará una primera idea de qué tan prometedoras son las regiones en términos de rentabilidad antes de proceder con un análisis más detallado."
   ]
  },
  {
   "cell_type": "code",
   "execution_count": 5,
   "metadata": {},
   "outputs": [
    {
     "name": "stdout",
     "output_type": "stream",
     "text": [
      "Volumen mínimo necesario para un pozo rentable: 111.11 unidades\n",
      "Media del volumen predicho en la Región 0: 92.40\n",
      "Media del volumen predicho en la Región 1: 68.71\n",
      "Media del volumen predicho en la Región 2: 94.77\n"
     ]
    }
   ],
   "source": [
    "# Cálculo del volumen de reservas necesario para alcanzar el umbral de 500,000 dólares por pozo\n",
    "min_volume_needed = 500000 / 4500  # cada barril genera $4500\n",
    "\n",
    "print(f\"Volumen mínimo necesario para un pozo rentable: {min_volume_needed:.2f} unidades\")\n",
    "\n",
    "# Cálculo de la cantidad media de reservas en cada región\n",
    "mean_volume_region_0 = predictions_valid_0.mean()\n",
    "mean_volume_region_1 = predictions_valid_1.mean()\n",
    "mean_volume_region_2 = predictions_valid_2.mean()\n",
    "\n",
    "print(f\"Media del volumen predicho en la Región 0: {mean_volume_region_0:.2f}\")\n",
    "print(f\"Media del volumen predicho en la Región 1: {mean_volume_region_1:.2f}\")\n",
    "print(f\"Media del volumen predicho en la Región 2: {mean_volume_region_2:.2f}\")\n"
   ]
  },
  {
   "cell_type": "markdown",
   "metadata": {},
   "source": [
    "### Observaciones sobre la Preparación para el Cálculo de Ganancias\n",
    "En este paso, hemos calculado el volumen mínimo de reservas que un pozo debe tener para ser rentable, dado que cada pozo necesita generar al menos $500,000 para cubrir los costos de desarrollo. El volumen mínimo necesario para alcanzar esta rentabilidad es de 111.11 unidades.\n",
    "\n",
    "Al comparar este valor con las medias de los volúmenes predichos en cada región, observamos lo siguiente:\n",
    "\n",
    "1. **Región 0:** La media del volumen predicho es de 92.40 unidades, que está por debajo del umbral de rentabilidad.\n",
    "\n",
    "2. **Región 1:** La media del volumen predicho es de 68.71 unidades, siendo la más baja entre las tres regiones, y significativamente por debajo del umbral de rentabilidad.\n",
    "\n",
    "3. **Región 2:** La media del volumen predicho es de 94.77 unidades, que también está por debajo del umbral de rentabilidad, aunque es la más cercana al objetivo.\n",
    "\n",
    "Estas observaciones sugieren que, en promedio, los pozos en ninguna de las regiones alcanzan el volumen mínimo necesario para ser rentables. Esto implica que, para identificar los pozos más prometedores, deberemos centrarnos en seleccionar los pozos con los volúmenes predichos más altos en cada región y calcular la ganancia esperada de los mejores 200 pozos en cada región. Este análisis más detallado nos permitirá determinar cuál de las regiones ofrece el mayor potencial de rentabilidad."
   ]
  },
  {
   "cell_type": "markdown",
   "metadata": {},
   "source": [
    "### Cálculo del Beneficio Esperado para Cada Región\n",
    "En este paso, vamos a seleccionar los 200 pozos con los volúmenes de reservas más altos predichos para cada región. Luego, calcularemos el beneficio total esperado para estos pozos en cada región. Finalmente, compararemos los beneficios esperados entre las regiones para determinar cuál es la más rentable."
   ]
  },
  {
   "cell_type": "code",
   "execution_count": 6,
   "metadata": {},
   "outputs": [
    {
     "name": "stdout",
     "output_type": "stream",
     "text": [
      "Beneficio esperado en la Región 0: $33591411.14\n",
      "Beneficio esperado en la Región 1: $24150866.97\n",
      "Beneficio esperado en la Región 2: $25985717.59\n"
     ]
    }
   ],
   "source": [
    "# Asegurarse de que target y predictions tengan los mismos índices\n",
    "def calcular_beneficio(target, predictions):\n",
    "    predictions = pd.Series(predictions, index=target.index)\n",
    "    top_200 = predictions.sort_values(ascending=False)[:200]\n",
    "    # Suma el volumen real de reservas para estos pozos\n",
    "    volumen_total = target.loc[top_200.index].sum()\n",
    "    # Calcula el beneficio\n",
    "    beneficio = volumen_total * 4500 - 100000000\n",
    "    return beneficio\n",
    "\n",
    "# Calcular el beneficio esperado para cada región\n",
    "beneficio_region_0 = calcular_beneficio(target_valid_0, predictions_valid_0)\n",
    "beneficio_region_1 = calcular_beneficio(target_valid_1, predictions_valid_1)\n",
    "beneficio_region_2 = calcular_beneficio(target_valid_2, predictions_valid_2)\n",
    "\n",
    "# Mostrar resultados\n",
    "print(f\"Beneficio esperado en la Región 0: ${beneficio_region_0:.2f}\")\n",
    "print(f\"Beneficio esperado en la Región 1: ${beneficio_region_1:.2f}\")\n",
    "print(f\"Beneficio esperado en la Región 2: ${beneficio_region_2:.2f}\")\n"
   ]
  },
  {
   "cell_type": "markdown",
   "metadata": {},
   "source": [
    "### Observaciones sobre el Cálculo de Beneficios Esperados\n",
    "\n",
    "En este paso, calculamos el beneficio esperado para cada una de las tres regiones considerando los 200 pozos con los valores de predicción más altos. Los resultados obtenidos son los siguientes:\n",
    "\n",
    "- **Región 0:** $33,591,411.14\n",
    "\n",
    "- **Región 1:** $24,150,866.97\n",
    "\n",
    "- **Región 2:** $25,985,717.59\n",
    "\n",
    "Aunque la Región 0 muestra el beneficio esperado más alto, y la Región 2 también presenta un resultado prometedor, es importante tener en cuenta que los modelos para estas regiones tienen un error de predicción (RMSE) considerablemente alto. Esto implica que existe una mayor incertidumbre en las predicciones, lo que podría resultar en que la rentabilidad proyectada no sea tan precisa en la práctica.\n",
    "\n",
    "Por otro lado, la Región 1 muestra un beneficio esperado más bajo, pero su modelo tiene un RMSE mucho menor, lo que sugiere que las predicciones son más fiables y estables. Este menor riesgo asociado con el modelo podría hacer que, en situaciones reales, la Región 1 sea una opción más segura, a pesar de tener un beneficio esperado inferior.\n",
    "\n",
    "Conclusión parcial:\n",
    "Aunque la Región 0 parece la más rentable según las predicciones, el alto error de predicción introduce un riesgo considerable. La Región 1, con su menor RMSE, ofrece predicciones más precisas y podría ser la opción más segura para evitar sorpresas negativas en el futuro. Por lo tanto, se debe considerar tanto la rentabilidad esperada como la estabilidad del modelo antes de tomar una decisión final sobre dónde desarrollar nuevos pozos petrolíferos."
   ]
  },
  {
   "cell_type": "markdown",
   "metadata": {},
   "source": [
    "## Evaluación de Riesgos y Beneficios mediante Bootstrapping\n",
    "En este paso, utilizaremos la técnica de bootstrapping para evaluar los riesgos y beneficios asociados con la elección de pozos petrolíferos en cada región. Realizaremos lo siguiente:\n",
    "\n",
    "1. **Simulación mediante Bootstrapping:** Generaremos 1000 muestras de los 200 mejores pozos petrolíferos para cada región utilizando la técnica de bootstrapping. Esto nos permitirá estimar la distribución de los beneficios esperados.\n",
    "\n",
    "2. **Cálculo del Beneficio Promedio y del Intervalo de Confianza:** Para cada región, calcularemos el beneficio promedio, el intervalo de confianza del 95%, y el riesgo de pérdidas (probabilidad de obtener un beneficio negativo).\n",
    "\n",
    "3. **Selección de la Mejor Región:** Basándonos en el análisis de riesgo y beneficio, identificaremos la región más adecuada para el desarrollo de nuevos pozos petrolíferos.\n",
    "\n",
    "El objetivo es elegir la región que no solo tenga el beneficio promedio más alto, sino también que tenga un riesgo de pérdidas aceptable (inferior al 2.5%)."
   ]
  },
  {
   "cell_type": "code",
   "execution_count": 9,
   "metadata": {},
   "outputs": [
    {
     "name": "stdout",
     "output_type": "stream",
     "text": [
      "Región 0 - Beneficio promedio: $82980304.57, Intervalo de confianza: ($77346081.04, $88564144.34), Riesgo de pérdida: 0.00%\n",
      "Región 1 - Beneficio promedio: $61621430.68, Intervalo de confianza: ($55582999.35, $67248764.66), Riesgo de pérdida: 0.00%\n",
      "Región 2 - Beneficio promedio: $85579841.14, Intervalo de confianza: ($79817038.56, $90995922.59), Riesgo de pérdida: 0.00%\n"
     ]
    }
   ],
   "source": [
    "def bootstrap_risk_analysis(target, predictions, n_bootstrap=1000, n_top=200):\n",
    "    state = np.random.RandomState(12345)\n",
    "    profits = []\n",
    "    \n",
    "    for i in range(n_bootstrap):\n",
    "        # Resample with replacement\n",
    "        target_subsample = target.sample(frac=1, replace=True, random_state=state).reset_index(drop=True)\n",
    "        preds_subsample = predictions.loc[target_subsample.index].reset_index(drop=True)\n",
    "        \n",
    "        # Select top 200 predictions\n",
    "        top_preds = preds_subsample.sort_values(ascending=False).head(n_top)\n",
    "        top_target = target_subsample.loc[top_preds.index]\n",
    "        \n",
    "        # Calculate profit with a revised approach\n",
    "        revenue = top_target.sum() * 4500\n",
    "        profit = revenue \n",
    "        profits.append(profit)\n",
    "    \n",
    "    profits = pd.Series(profits)\n",
    "    mean_profit = profits.mean()\n",
    "    lower_bound = profits.quantile(0.025)\n",
    "    upper_bound = profits.quantile(0.975)\n",
    "    risk_of_loss = (profits < 0).mean() * 100\n",
    "    \n",
    "    return mean_profit, lower_bound, upper_bound, risk_of_loss\n",
    "\n",
    "# Análisis de riesgos para cada región\n",
    "mean_profit_0, lower_0, upper_0, risk_0 = bootstrap_risk_analysis(target_valid_0, pd.Series(predictions_valid_0))\n",
    "mean_profit_1, lower_1, upper_1, risk_1 = bootstrap_risk_analysis(target_valid_1, pd.Series(predictions_valid_1))\n",
    "mean_profit_2, lower_2, upper_2, risk_2 = bootstrap_risk_analysis(target_valid_2, pd.Series(predictions_valid_2))\n",
    "\n",
    "# Mostrar resultados\n",
    "print(f\"Región 0 - Beneficio promedio: ${mean_profit_0:.2f}, Intervalo de confianza: (${lower_0:.2f}, ${upper_0:.2f}), Riesgo de pérdida: {risk_0:.2f}%\")\n",
    "print(f\"Región 1 - Beneficio promedio: ${mean_profit_1:.2f}, Intervalo de confianza: (${lower_1:.2f}, ${upper_1:.2f}), Riesgo de pérdida: {risk_1:.2f}%\")\n",
    "print(f\"Región 2 - Beneficio promedio: ${mean_profit_2:.2f}, Intervalo de confianza: (${lower_2:.2f}, ${upper_2:.2f}), Riesgo de pérdida: {risk_2:.2f}%\")\n"
   ]
  },
  {
   "cell_type": "markdown",
   "metadata": {},
   "source": [
    "### Observaciones sobre la Evaluación de Riesgos y Beneficios mediante Bootstrapping\n",
    "\n",
    "En este paso, hemos realizado un análisis de riesgos y beneficios utilizando la técnica de bootstrapping para las tres regiones consideradas. A continuación, se presentan los resultados obtenidos:\n",
    "\n",
    "- **Región 0:**\n",
    "  - **Beneficio promedio:** $82,980,304.57\n",
    "  \n",
    "  - **Intervalo de confianza (95%):** $77,346,081.04 - $88,564,144.34\n",
    "  \n",
    "  - **Riesgo de pérdida:** 0.00%\n",
    "\n",
    "- **Región 1:**\n",
    "  - **Beneficio promedio:** $61,621,430.68\n",
    "  \n",
    "  - **Intervalo de confianza (95%):** $55,582,999.35 - $67,248,764.66\n",
    "  \n",
    "  - **Riesgo de pérdida:** 0.00%\n",
    "\n",
    "- **Región 2:**\n",
    "  - **Beneficio promedio:** $85,579,841.14\n",
    "  \n",
    "  - **Intervalo de confianza (95%):** $79,817,038.56 - $90,995,922.59\n",
    "  \n",
    "  - **Riesgo de pérdida:** 0.00%\n",
    "\n",
    "**Análisis de Resultados:**\n",
    "\n",
    "- **Riesgo de Pérdida:** A diferencia de los resultados anteriores, ninguna de las regiones presenta un riesgo de pérdida del 100%. Todas las regiones muestran un riesgo de pérdida del 0%, lo que significa que en cada una de las 1000 muestras de bootstrapping, se ha obtenido un beneficio positivo.\n",
    "\n",
    "- **Beneficio Promedio:** El beneficio promedio es positivo en todas las regiones, con la Región 2 mostrando los mayores beneficios esperados, seguida de la Región 0.\n",
    "\n",
    "- **Intervalo de Confianza:** Los intervalos de confianza del 95% para los beneficios en todas las regiones son positivos, confirmando la viabilidad financiera de las inversiones en estas regiones bajo las condiciones actuales de análisis.\n",
    "\n",
    "**Conclusión:**\n",
    "\n",
    "Los resultados del análisis de bootstrapping sugieren que las tres regiones tienen un perfil de riesgo favorable para la inversión en 200 pozos petrolíferos, con la Región 2 siendo la más prometedora en términos de beneficio promedio. Sin embargo, es importante destacar que estos cálculos de beneficios no han considerado aún la deducción de la inversión necesaria. Al restar la inversión de $100 millones, todas las regiones incurrirían en pérdidas netas, lo que requiere una reevaluación cuidadosa antes de tomar cualquier decisión de inversión.\n"
   ]
  },
  {
   "cell_type": "markdown",
   "metadata": {},
   "source": [
    "## Conclusiones Finales\n",
    "\n",
    "En este análisis, hemos evaluado tres regiones diferentes en términos de su potencial para el desarrollo de nuevos pozos petrolíferos. Para ello, utilizamos modelos de predicción para estimar el volumen de reservas de los pozos y aplicamos la técnica de bootstrapping para calcular los beneficios esperados y los riesgos asociados en cada región. A continuación, se presentan los resultados obtenidos:\n",
    "\n",
    "- **Región 0:**\n",
    "  - **Beneficio promedio:** $82,980,304.57\n",
    " \n",
    " - **Intervalo de confianza (95%):** $77,346,081.04 - $88,564,144.34\n",
    "  \n",
    "  - **Riesgo de pérdida:** 0.00%\n",
    "\n",
    "- **Región 1:**\n",
    "  - **Beneficio promedio:** $61,621,430.68\n",
    "  \n",
    "  - **Intervalo de confianza (95%):** $55,582,999.35 - $67,248,764.66\n",
    "  - **Riesgo de pérdida:** 0.00%\n",
    "\n",
    "- **Región 2:**\n",
    "  - **Beneficio promedio:** $85,579,841.14\n",
    "  \n",
    "  - **Intervalo de confianza (95%):** $79,817,038.56 - $90,995,922.59\n",
    "  - **Riesgo de pérdida:** 0.00%\n",
    "\n",
    "### Análisis de Resultados\n",
    "\n",
    "Los resultados muestran que las tres regiones presentan un riesgo de pérdida del 0%, lo que sugiere que, según nuestras predicciones, todas las regiones deberían generar beneficios positivos en promedio. La Región 2 destaca como la región con el beneficio promedio más alto, seguida de cerca por la Región 0, y finalmente la Región 1, que muestra el menor beneficio promedio.\n",
    "\n",
    "### Consideración Crítica: Impacto de la Inversión\n",
    "\n",
    "Es crucial destacar que estos cálculos de beneficios no han considerado aún la deducción de la inversión necesaria para desarrollar los 200 pozos en cada región, que es de $100 millones. Cuando restamos esta inversión del beneficio promedio estimado:\n",
    "\n",
    "- **Región 0:** Beneficio neto sería **-$17,019,695.43**, resultando en una **pérdida**.\n",
    "\n",
    "- **Región 1:** Beneficio neto sería **-$38,378,569.32**, resultando en una **pérdida**.\n",
    "\n",
    "- **Región 2:** Beneficio neto sería **-$14,420,158.86**, resultando en una **pérdida**.\n",
    "\n",
    "### Conclusión\n",
    "\n",
    "Al incluir el costo de inversión en el análisis, observamos que todas las regiones resultarían en pérdidas netas. Aunque la Región 2 presenta el menor déficit, seguido de la Región 0, la decisión de desarrollar nuevos pozos en cualquiera de estas regiones no sería financieramente viable bajo las condiciones actuales.\n",
    "\n",
    "Recomendamos reconsiderar la estrategia de inversión o explorar alternativas para reducir los costos de desarrollo, mejorar la precisión de las predicciones o identificar nuevas regiones con mejores perspectivas de rentabilidad.\n"
   ]
  }
 ],
 "metadata": {
  "ExecuteTimeLog": [
   {
    "duration": 1483,
    "start_time": "2024-08-14T18:45:03.469Z"
   },
   {
    "duration": 138,
    "start_time": "2024-08-14T18:47:19.818Z"
   },
   {
    "duration": 291,
    "start_time": "2024-08-14T18:48:43.788Z"
   },
   {
    "duration": 476,
    "start_time": "2024-08-14T18:48:51.994Z"
   },
   {
    "duration": 3,
    "start_time": "2024-08-14T18:56:51.135Z"
   },
   {
    "duration": 719,
    "start_time": "2024-08-14T18:57:23.237Z"
   },
   {
    "duration": 409,
    "start_time": "2024-08-14T18:57:23.959Z"
   },
   {
    "duration": 94,
    "start_time": "2024-08-14T18:57:24.371Z"
   },
   {
    "duration": 44,
    "start_time": "2024-08-14T19:00:01.580Z"
   },
   {
    "duration": 25,
    "start_time": "2024-08-14T19:03:02.350Z"
   },
   {
    "duration": 96,
    "start_time": "2024-08-14T19:04:46.742Z"
   },
   {
    "duration": 16,
    "start_time": "2024-08-14T19:08:46.807Z"
   },
   {
    "duration": 36,
    "start_time": "2024-08-14T19:13:44.573Z"
   },
   {
    "duration": 6,
    "start_time": "2024-08-14T19:15:48.593Z"
   },
   {
    "duration": 29,
    "start_time": "2024-08-14T19:23:58.441Z"
   },
   {
    "duration": 347,
    "start_time": "2024-08-14T19:35:19.413Z"
   },
   {
    "duration": 5,
    "start_time": "2024-08-14T19:35:33.881Z"
   },
   {
    "duration": 393,
    "start_time": "2024-08-14T19:35:33.891Z"
   },
   {
    "duration": 48,
    "start_time": "2024-08-14T19:35:34.287Z"
   },
   {
    "duration": 98,
    "start_time": "2024-08-14T19:35:34.338Z"
   },
   {
    "duration": 7,
    "start_time": "2024-08-14T19:35:34.440Z"
   },
   {
    "duration": 241,
    "start_time": "2024-08-14T19:35:34.450Z"
   },
   {
    "duration": 20,
    "start_time": "2024-08-14T19:43:07.981Z"
   },
   {
    "duration": 4,
    "start_time": "2024-08-14T20:46:05.335Z"
   },
   {
    "duration": 5,
    "start_time": "2024-08-14T20:46:09.010Z"
   },
   {
    "duration": 333,
    "start_time": "2024-08-14T20:46:21.002Z"
   },
   {
    "duration": 57,
    "start_time": "2024-08-14T20:46:55.036Z"
   },
   {
    "duration": 136,
    "start_time": "2024-08-14T20:50:03.584Z"
   },
   {
    "duration": 115,
    "start_time": "2024-08-14T20:54:50.412Z"
   },
   {
    "duration": 212,
    "start_time": "2024-08-14T20:54:55.430Z"
   },
   {
    "duration": 103,
    "start_time": "2024-08-14T20:55:25.375Z"
   },
   {
    "duration": 4,
    "start_time": "2024-08-14T21:01:15.377Z"
   },
   {
    "duration": 401,
    "start_time": "2024-08-14T21:01:15.385Z"
   },
   {
    "duration": 49,
    "start_time": "2024-08-14T21:01:15.789Z"
   },
   {
    "duration": 95,
    "start_time": "2024-08-14T21:01:15.841Z"
   },
   {
    "duration": 99,
    "start_time": "2024-08-14T21:01:15.940Z"
   },
   {
    "duration": 24,
    "start_time": "2024-08-14T21:01:16.041Z"
   },
   {
    "duration": 107,
    "start_time": "2024-08-14T21:01:48.063Z"
   },
   {
    "duration": 16863,
    "start_time": "2024-08-14T21:03:28.883Z"
   },
   {
    "duration": 1169,
    "start_time": "2024-08-16T20:56:05.510Z"
   },
   {
    "duration": 531,
    "start_time": "2024-08-16T20:56:06.683Z"
   },
   {
    "duration": 52,
    "start_time": "2024-08-16T20:56:07.217Z"
   },
   {
    "duration": 77,
    "start_time": "2024-08-16T20:56:07.272Z"
   },
   {
    "duration": 84,
    "start_time": "2024-08-16T20:56:07.353Z"
   },
   {
    "duration": 98,
    "start_time": "2024-08-16T20:56:07.440Z"
   },
   {
    "duration": 16928,
    "start_time": "2024-08-16T20:56:07.542Z"
   },
   {
    "duration": 1191,
    "start_time": "2024-08-19T18:22:40.737Z"
   },
   {
    "duration": 508,
    "start_time": "2024-08-19T18:22:41.931Z"
   },
   {
    "duration": 46,
    "start_time": "2024-08-19T18:22:42.443Z"
   },
   {
    "duration": 118,
    "start_time": "2024-08-19T18:22:42.493Z"
   },
   {
    "duration": 7,
    "start_time": "2024-08-19T18:22:42.613Z"
   },
   {
    "duration": 106,
    "start_time": "2024-08-19T18:22:42.622Z"
   },
   {
    "duration": 16682,
    "start_time": "2024-08-19T18:22:59.492Z"
   },
   {
    "duration": 16501,
    "start_time": "2024-08-19T18:24:36.690Z"
   }
  ],
  "kernelspec": {
   "display_name": "Python 3 (ipykernel)",
   "language": "python",
   "name": "python3"
  },
  "language_info": {
   "codemirror_mode": {
    "name": "ipython",
    "version": 3
   },
   "file_extension": ".py",
   "mimetype": "text/x-python",
   "name": "python",
   "nbconvert_exporter": "python",
   "pygments_lexer": "ipython3",
   "version": "3.9.19"
  },
  "toc": {
   "base_numbering": 1,
   "nav_menu": {},
   "number_sections": true,
   "sideBar": true,
   "skip_h1_title": true,
   "title_cell": "Table of Contents",
   "title_sidebar": "Contents",
   "toc_cell": false,
   "toc_position": {},
   "toc_section_display": true,
   "toc_window_display": false
  }
 },
 "nbformat": 4,
 "nbformat_minor": 2
}
